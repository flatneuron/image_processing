{
  "nbformat": 4,
  "nbformat_minor": 0,
  "metadata": {
    "colab": {
      "provenance": [],
      "gpuType": "T4",
      "authorship_tag": "ABX9TyOxVRg0zzZpJfz4vpSecEvh",
      "include_colab_link": true
    },
    "kernelspec": {
      "name": "python3",
      "display_name": "Python 3"
    },
    "language_info": {
      "name": "python"
    },
    "accelerator": "GPU"
  },
  "cells": [
    {
      "cell_type": "markdown",
      "metadata": {
        "id": "view-in-github",
        "colab_type": "text"
      },
      "source": [
        "<a href=\"https://colab.research.google.com/github/flatneuron/image_processing/blob/main/image_processing.ipynb\" target=\"_parent\"><img src=\"https://colab.research.google.com/assets/colab-badge.svg\" alt=\"Open In Colab\"/></a>"
      ]
    },
    {
      "cell_type": "markdown",
      "source": [
        "#Setup"
      ],
      "metadata": {
        "id": "nWG-6NWPmG82"
      }
    },
    {
      "cell_type": "code",
      "source": [
        "!pip install gdown"
      ],
      "metadata": {
        "colab": {
          "base_uri": "https://localhost:8080/",
          "height": 0
        },
        "collapsed": true,
        "id": "O7k630wfm9rA",
        "outputId": "4f400284-0b46-4f15-9fc9-f23f120d74eb"
      },
      "execution_count": 1,
      "outputs": [
        {
          "output_type": "stream",
          "name": "stdout",
          "text": [
            "Requirement already satisfied: gdown in /usr/local/lib/python3.11/dist-packages (5.2.0)\n",
            "Requirement already satisfied: beautifulsoup4 in /usr/local/lib/python3.11/dist-packages (from gdown) (4.13.4)\n",
            "Requirement already satisfied: filelock in /usr/local/lib/python3.11/dist-packages (from gdown) (3.18.0)\n",
            "Requirement already satisfied: requests[socks] in /usr/local/lib/python3.11/dist-packages (from gdown) (2.32.3)\n",
            "Requirement already satisfied: tqdm in /usr/local/lib/python3.11/dist-packages (from gdown) (4.67.1)\n",
            "Requirement already satisfied: soupsieve>1.2 in /usr/local/lib/python3.11/dist-packages (from beautifulsoup4->gdown) (2.7)\n",
            "Requirement already satisfied: typing-extensions>=4.0.0 in /usr/local/lib/python3.11/dist-packages (from beautifulsoup4->gdown) (4.14.1)\n",
            "Requirement already satisfied: charset-normalizer<4,>=2 in /usr/local/lib/python3.11/dist-packages (from requests[socks]->gdown) (3.4.2)\n",
            "Requirement already satisfied: idna<4,>=2.5 in /usr/local/lib/python3.11/dist-packages (from requests[socks]->gdown) (3.10)\n",
            "Requirement already satisfied: urllib3<3,>=1.21.1 in /usr/local/lib/python3.11/dist-packages (from requests[socks]->gdown) (2.4.0)\n",
            "Requirement already satisfied: certifi>=2017.4.17 in /usr/local/lib/python3.11/dist-packages (from requests[socks]->gdown) (2025.7.9)\n",
            "Requirement already satisfied: PySocks!=1.5.7,>=1.5.6 in /usr/local/lib/python3.11/dist-packages (from requests[socks]->gdown) (1.7.1)\n"
          ]
        }
      ]
    },
    {
      "cell_type": "code",
      "source": [
        "import gdown\n",
        "import os\n",
        "\n",
        "#function to download input videos from gdrive\n",
        "def download_file_from_google_drive(file_id, output_filename):\n",
        "    url = f'https://drive.google.com/uc?id={file_id}'\n",
        "    gdown.download(url, output_filename, quiet=False)\n",
        "    print(f\"Downloaded {output_filename}\")"
      ],
      "metadata": {
        "id": "ST03Pdd1mhF8"
      },
      "execution_count": 2,
      "outputs": []
    },
    {
      "cell_type": "code",
      "source": [
        "download_file_from_google_drive('1vkjDMtIaeFzJ0-xeh90IShzsNJSoR5i9', 'task1_input_video.mp4') # input video for task 1\n",
        "download_file_from_google_drive('1BO9q8ujit3SBj236IyAJ87phHGsoqqn7', 'task2_input_video.mp4') # input video for task 2"
      ],
      "metadata": {
        "colab": {
          "base_uri": "https://localhost:8080/",
          "height": 0
        },
        "collapsed": true,
        "id": "KvICjijqmihk",
        "outputId": "7e9c58f9-f641-4af0-f025-551d6e8f341c"
      },
      "execution_count": 3,
      "outputs": [
        {
          "output_type": "stream",
          "name": "stderr",
          "text": [
            "Downloading...\n",
            "From: https://drive.google.com/uc?id=1vkjDMtIaeFzJ0-xeh90IShzsNJSoR5i9\n",
            "To: /content/task1_input_video.mp4\n",
            "100%|██████████| 47.5M/47.5M [00:00<00:00, 97.0MB/s]\n"
          ]
        },
        {
          "output_type": "stream",
          "name": "stdout",
          "text": [
            "Downloaded task1_input_video.mp4\n"
          ]
        },
        {
          "output_type": "stream",
          "name": "stderr",
          "text": [
            "Downloading...\n",
            "From: https://drive.google.com/uc?id=1BO9q8ujit3SBj236IyAJ87phHGsoqqn7\n",
            "To: /content/task2_input_video.mp4\n",
            "100%|██████████| 887k/887k [00:00<00:00, 9.69MB/s]"
          ]
        },
        {
          "output_type": "stream",
          "name": "stdout",
          "text": [
            "Downloaded task2_input_video.mp4\n"
          ]
        },
        {
          "output_type": "stream",
          "name": "stderr",
          "text": [
            "\n"
          ]
        }
      ]
    },
    {
      "cell_type": "code",
      "source": [
        "# downloading required libraries for task 1 and task 2\n",
        "!pip install ultralytics opencv-python pandas matplotlib\n"
      ],
      "metadata": {
        "colab": {
          "base_uri": "https://localhost:8080/",
          "height": 0
        },
        "id": "LFz7friRDB_A",
        "outputId": "738a5958-42b1-4c82-8a0f-64d5f68f6b7a",
        "collapsed": true
      },
      "execution_count": 4,
      "outputs": [
        {
          "output_type": "stream",
          "name": "stdout",
          "text": [
            "Collecting ultralytics\n",
            "  Downloading ultralytics-8.3.166-py3-none-any.whl.metadata (37 kB)\n",
            "Requirement already satisfied: opencv-python in /usr/local/lib/python3.11/dist-packages (4.11.0.86)\n",
            "Requirement already satisfied: pandas in /usr/local/lib/python3.11/dist-packages (2.2.2)\n",
            "Requirement already satisfied: matplotlib in /usr/local/lib/python3.11/dist-packages (3.10.0)\n",
            "Requirement already satisfied: numpy>=1.23.0 in /usr/local/lib/python3.11/dist-packages (from ultralytics) (2.0.2)\n",
            "Requirement already satisfied: pillow>=7.1.2 in /usr/local/lib/python3.11/dist-packages (from ultralytics) (11.2.1)\n",
            "Requirement already satisfied: pyyaml>=5.3.1 in /usr/local/lib/python3.11/dist-packages (from ultralytics) (6.0.2)\n",
            "Requirement already satisfied: requests>=2.23.0 in /usr/local/lib/python3.11/dist-packages (from ultralytics) (2.32.3)\n",
            "Requirement already satisfied: scipy>=1.4.1 in /usr/local/lib/python3.11/dist-packages (from ultralytics) (1.15.3)\n",
            "Requirement already satisfied: torch>=1.8.0 in /usr/local/lib/python3.11/dist-packages (from ultralytics) (2.6.0+cu124)\n",
            "Requirement already satisfied: torchvision>=0.9.0 in /usr/local/lib/python3.11/dist-packages (from ultralytics) (0.21.0+cu124)\n",
            "Requirement already satisfied: tqdm>=4.64.0 in /usr/local/lib/python3.11/dist-packages (from ultralytics) (4.67.1)\n",
            "Requirement already satisfied: psutil in /usr/local/lib/python3.11/dist-packages (from ultralytics) (5.9.5)\n",
            "Requirement already satisfied: py-cpuinfo in /usr/local/lib/python3.11/dist-packages (from ultralytics) (9.0.0)\n",
            "Collecting ultralytics-thop>=2.0.0 (from ultralytics)\n",
            "  Downloading ultralytics_thop-2.0.14-py3-none-any.whl.metadata (9.4 kB)\n",
            "Requirement already satisfied: python-dateutil>=2.8.2 in /usr/local/lib/python3.11/dist-packages (from pandas) (2.9.0.post0)\n",
            "Requirement already satisfied: pytz>=2020.1 in /usr/local/lib/python3.11/dist-packages (from pandas) (2025.2)\n",
            "Requirement already satisfied: tzdata>=2022.7 in /usr/local/lib/python3.11/dist-packages (from pandas) (2025.2)\n",
            "Requirement already satisfied: contourpy>=1.0.1 in /usr/local/lib/python3.11/dist-packages (from matplotlib) (1.3.2)\n",
            "Requirement already satisfied: cycler>=0.10 in /usr/local/lib/python3.11/dist-packages (from matplotlib) (0.12.1)\n",
            "Requirement already satisfied: fonttools>=4.22.0 in /usr/local/lib/python3.11/dist-packages (from matplotlib) (4.58.5)\n",
            "Requirement already satisfied: kiwisolver>=1.3.1 in /usr/local/lib/python3.11/dist-packages (from matplotlib) (1.4.8)\n",
            "Requirement already satisfied: packaging>=20.0 in /usr/local/lib/python3.11/dist-packages (from matplotlib) (24.2)\n",
            "Requirement already satisfied: pyparsing>=2.3.1 in /usr/local/lib/python3.11/dist-packages (from matplotlib) (3.2.3)\n",
            "Requirement already satisfied: six>=1.5 in /usr/local/lib/python3.11/dist-packages (from python-dateutil>=2.8.2->pandas) (1.17.0)\n",
            "Requirement already satisfied: charset-normalizer<4,>=2 in /usr/local/lib/python3.11/dist-packages (from requests>=2.23.0->ultralytics) (3.4.2)\n",
            "Requirement already satisfied: idna<4,>=2.5 in /usr/local/lib/python3.11/dist-packages (from requests>=2.23.0->ultralytics) (3.10)\n",
            "Requirement already satisfied: urllib3<3,>=1.21.1 in /usr/local/lib/python3.11/dist-packages (from requests>=2.23.0->ultralytics) (2.4.0)\n",
            "Requirement already satisfied: certifi>=2017.4.17 in /usr/local/lib/python3.11/dist-packages (from requests>=2.23.0->ultralytics) (2025.7.9)\n",
            "Requirement already satisfied: filelock in /usr/local/lib/python3.11/dist-packages (from torch>=1.8.0->ultralytics) (3.18.0)\n",
            "Requirement already satisfied: typing-extensions>=4.10.0 in /usr/local/lib/python3.11/dist-packages (from torch>=1.8.0->ultralytics) (4.14.1)\n",
            "Requirement already satisfied: networkx in /usr/local/lib/python3.11/dist-packages (from torch>=1.8.0->ultralytics) (3.5)\n",
            "Requirement already satisfied: jinja2 in /usr/local/lib/python3.11/dist-packages (from torch>=1.8.0->ultralytics) (3.1.6)\n",
            "Requirement already satisfied: fsspec in /usr/local/lib/python3.11/dist-packages (from torch>=1.8.0->ultralytics) (2025.3.2)\n",
            "Collecting nvidia-cuda-nvrtc-cu12==12.4.127 (from torch>=1.8.0->ultralytics)\n",
            "  Downloading nvidia_cuda_nvrtc_cu12-12.4.127-py3-none-manylinux2014_x86_64.whl.metadata (1.5 kB)\n",
            "Collecting nvidia-cuda-runtime-cu12==12.4.127 (from torch>=1.8.0->ultralytics)\n",
            "  Downloading nvidia_cuda_runtime_cu12-12.4.127-py3-none-manylinux2014_x86_64.whl.metadata (1.5 kB)\n",
            "Collecting nvidia-cuda-cupti-cu12==12.4.127 (from torch>=1.8.0->ultralytics)\n",
            "  Downloading nvidia_cuda_cupti_cu12-12.4.127-py3-none-manylinux2014_x86_64.whl.metadata (1.6 kB)\n",
            "Collecting nvidia-cudnn-cu12==9.1.0.70 (from torch>=1.8.0->ultralytics)\n",
            "  Downloading nvidia_cudnn_cu12-9.1.0.70-py3-none-manylinux2014_x86_64.whl.metadata (1.6 kB)\n",
            "Collecting nvidia-cublas-cu12==12.4.5.8 (from torch>=1.8.0->ultralytics)\n",
            "  Downloading nvidia_cublas_cu12-12.4.5.8-py3-none-manylinux2014_x86_64.whl.metadata (1.5 kB)\n",
            "Collecting nvidia-cufft-cu12==11.2.1.3 (from torch>=1.8.0->ultralytics)\n",
            "  Downloading nvidia_cufft_cu12-11.2.1.3-py3-none-manylinux2014_x86_64.whl.metadata (1.5 kB)\n",
            "Collecting nvidia-curand-cu12==10.3.5.147 (from torch>=1.8.0->ultralytics)\n",
            "  Downloading nvidia_curand_cu12-10.3.5.147-py3-none-manylinux2014_x86_64.whl.metadata (1.5 kB)\n",
            "Collecting nvidia-cusolver-cu12==11.6.1.9 (from torch>=1.8.0->ultralytics)\n",
            "  Downloading nvidia_cusolver_cu12-11.6.1.9-py3-none-manylinux2014_x86_64.whl.metadata (1.6 kB)\n",
            "Collecting nvidia-cusparse-cu12==12.3.1.170 (from torch>=1.8.0->ultralytics)\n",
            "  Downloading nvidia_cusparse_cu12-12.3.1.170-py3-none-manylinux2014_x86_64.whl.metadata (1.6 kB)\n",
            "Requirement already satisfied: nvidia-cusparselt-cu12==0.6.2 in /usr/local/lib/python3.11/dist-packages (from torch>=1.8.0->ultralytics) (0.6.2)\n",
            "Requirement already satisfied: nvidia-nccl-cu12==2.21.5 in /usr/local/lib/python3.11/dist-packages (from torch>=1.8.0->ultralytics) (2.21.5)\n",
            "Requirement already satisfied: nvidia-nvtx-cu12==12.4.127 in /usr/local/lib/python3.11/dist-packages (from torch>=1.8.0->ultralytics) (12.4.127)\n",
            "Collecting nvidia-nvjitlink-cu12==12.4.127 (from torch>=1.8.0->ultralytics)\n",
            "  Downloading nvidia_nvjitlink_cu12-12.4.127-py3-none-manylinux2014_x86_64.whl.metadata (1.5 kB)\n",
            "Requirement already satisfied: triton==3.2.0 in /usr/local/lib/python3.11/dist-packages (from torch>=1.8.0->ultralytics) (3.2.0)\n",
            "Requirement already satisfied: sympy==1.13.1 in /usr/local/lib/python3.11/dist-packages (from torch>=1.8.0->ultralytics) (1.13.1)\n",
            "Requirement already satisfied: mpmath<1.4,>=1.1.0 in /usr/local/lib/python3.11/dist-packages (from sympy==1.13.1->torch>=1.8.0->ultralytics) (1.3.0)\n",
            "Requirement already satisfied: MarkupSafe>=2.0 in /usr/local/lib/python3.11/dist-packages (from jinja2->torch>=1.8.0->ultralytics) (3.0.2)\n",
            "Downloading ultralytics-8.3.166-py3-none-any.whl (1.0 MB)\n",
            "\u001b[2K   \u001b[90m━━━━━━━━━━━━━━━━━━━━━━━━━━━━━━━━━━━━━━━━\u001b[0m \u001b[32m1.0/1.0 MB\u001b[0m \u001b[31m30.4 MB/s\u001b[0m eta \u001b[36m0:00:00\u001b[0m\n",
            "\u001b[?25hDownloading nvidia_cublas_cu12-12.4.5.8-py3-none-manylinux2014_x86_64.whl (363.4 MB)\n",
            "\u001b[2K   \u001b[90m━━━━━━━━━━━━━━━━━━━━━━━━━━━━━━━━━━━━━━━━\u001b[0m \u001b[32m363.4/363.4 MB\u001b[0m \u001b[31m4.3 MB/s\u001b[0m eta \u001b[36m0:00:00\u001b[0m\n",
            "\u001b[?25hDownloading nvidia_cuda_cupti_cu12-12.4.127-py3-none-manylinux2014_x86_64.whl (13.8 MB)\n",
            "\u001b[2K   \u001b[90m━━━━━━━━━━━━━━━━━━━━━━━━━━━━━━━━━━━━━━━━\u001b[0m \u001b[32m13.8/13.8 MB\u001b[0m \u001b[31m76.6 MB/s\u001b[0m eta \u001b[36m0:00:00\u001b[0m\n",
            "\u001b[?25hDownloading nvidia_cuda_nvrtc_cu12-12.4.127-py3-none-manylinux2014_x86_64.whl (24.6 MB)\n",
            "\u001b[2K   \u001b[90m━━━━━━━━━━━━━━━━━━━━━━━━━━━━━━━━━━━━━━━━\u001b[0m \u001b[32m24.6/24.6 MB\u001b[0m \u001b[31m75.4 MB/s\u001b[0m eta \u001b[36m0:00:00\u001b[0m\n",
            "\u001b[?25hDownloading nvidia_cuda_runtime_cu12-12.4.127-py3-none-manylinux2014_x86_64.whl (883 kB)\n",
            "\u001b[2K   \u001b[90m━━━━━━━━━━━━━━━━━━━━━━━━━━━━━━━━━━━━━━━━\u001b[0m \u001b[32m883.7/883.7 kB\u001b[0m \u001b[31m52.2 MB/s\u001b[0m eta \u001b[36m0:00:00\u001b[0m\n",
            "\u001b[?25hDownloading nvidia_cudnn_cu12-9.1.0.70-py3-none-manylinux2014_x86_64.whl (664.8 MB)\n",
            "\u001b[2K   \u001b[90m━━━━━━━━━━━━━━━━━━━━━━━━━━━━━━━━━━━━━━━━\u001b[0m \u001b[32m664.8/664.8 MB\u001b[0m \u001b[31m1.6 MB/s\u001b[0m eta \u001b[36m0:00:00\u001b[0m\n",
            "\u001b[?25hDownloading nvidia_cufft_cu12-11.2.1.3-py3-none-manylinux2014_x86_64.whl (211.5 MB)\n",
            "\u001b[2K   \u001b[90m━━━━━━━━━━━━━━━━━━━━━━━━━━━━━━━━━━━━━━━━\u001b[0m \u001b[32m211.5/211.5 MB\u001b[0m \u001b[31m5.4 MB/s\u001b[0m eta \u001b[36m0:00:00\u001b[0m\n",
            "\u001b[?25hDownloading nvidia_curand_cu12-10.3.5.147-py3-none-manylinux2014_x86_64.whl (56.3 MB)\n",
            "\u001b[2K   \u001b[90m━━━━━━━━━━━━━━━━━━━━━━━━━━━━━━━━━━━━━━━━\u001b[0m \u001b[32m56.3/56.3 MB\u001b[0m \u001b[31m24.6 MB/s\u001b[0m eta \u001b[36m0:00:00\u001b[0m\n",
            "\u001b[?25hDownloading nvidia_cusolver_cu12-11.6.1.9-py3-none-manylinux2014_x86_64.whl (127.9 MB)\n",
            "\u001b[2K   \u001b[90m━━━━━━━━━━━━━━━━━━━━━━━━━━━━━━━━━━━━━━━━\u001b[0m \u001b[32m127.9/127.9 MB\u001b[0m \u001b[31m8.1 MB/s\u001b[0m eta \u001b[36m0:00:00\u001b[0m\n",
            "\u001b[?25hDownloading nvidia_cusparse_cu12-12.3.1.170-py3-none-manylinux2014_x86_64.whl (207.5 MB)\n",
            "\u001b[2K   \u001b[90m━━━━━━━━━━━━━━━━━━━━━━━━━━━━━━━━━━━━━━━━\u001b[0m \u001b[32m207.5/207.5 MB\u001b[0m \u001b[31m5.4 MB/s\u001b[0m eta \u001b[36m0:00:00\u001b[0m\n",
            "\u001b[?25hDownloading nvidia_nvjitlink_cu12-12.4.127-py3-none-manylinux2014_x86_64.whl (21.1 MB)\n",
            "\u001b[2K   \u001b[90m━━━━━━━━━━━━━━━━━━━━━━━━━━━━━━━━━━━━━━━━\u001b[0m \u001b[32m21.1/21.1 MB\u001b[0m \u001b[31m43.6 MB/s\u001b[0m eta \u001b[36m0:00:00\u001b[0m\n",
            "\u001b[?25hDownloading ultralytics_thop-2.0.14-py3-none-any.whl (26 kB)\n",
            "Installing collected packages: nvidia-nvjitlink-cu12, nvidia-curand-cu12, nvidia-cufft-cu12, nvidia-cuda-runtime-cu12, nvidia-cuda-nvrtc-cu12, nvidia-cuda-cupti-cu12, nvidia-cublas-cu12, nvidia-cusparse-cu12, nvidia-cudnn-cu12, nvidia-cusolver-cu12, ultralytics-thop, ultralytics\n",
            "  Attempting uninstall: nvidia-nvjitlink-cu12\n",
            "    Found existing installation: nvidia-nvjitlink-cu12 12.5.82\n",
            "    Uninstalling nvidia-nvjitlink-cu12-12.5.82:\n",
            "      Successfully uninstalled nvidia-nvjitlink-cu12-12.5.82\n",
            "  Attempting uninstall: nvidia-curand-cu12\n",
            "    Found existing installation: nvidia-curand-cu12 10.3.6.82\n",
            "    Uninstalling nvidia-curand-cu12-10.3.6.82:\n",
            "      Successfully uninstalled nvidia-curand-cu12-10.3.6.82\n",
            "  Attempting uninstall: nvidia-cufft-cu12\n",
            "    Found existing installation: nvidia-cufft-cu12 11.2.3.61\n",
            "    Uninstalling nvidia-cufft-cu12-11.2.3.61:\n",
            "      Successfully uninstalled nvidia-cufft-cu12-11.2.3.61\n",
            "  Attempting uninstall: nvidia-cuda-runtime-cu12\n",
            "    Found existing installation: nvidia-cuda-runtime-cu12 12.5.82\n",
            "    Uninstalling nvidia-cuda-runtime-cu12-12.5.82:\n",
            "      Successfully uninstalled nvidia-cuda-runtime-cu12-12.5.82\n",
            "  Attempting uninstall: nvidia-cuda-nvrtc-cu12\n",
            "    Found existing installation: nvidia-cuda-nvrtc-cu12 12.5.82\n",
            "    Uninstalling nvidia-cuda-nvrtc-cu12-12.5.82:\n",
            "      Successfully uninstalled nvidia-cuda-nvrtc-cu12-12.5.82\n",
            "  Attempting uninstall: nvidia-cuda-cupti-cu12\n",
            "    Found existing installation: nvidia-cuda-cupti-cu12 12.5.82\n",
            "    Uninstalling nvidia-cuda-cupti-cu12-12.5.82:\n",
            "      Successfully uninstalled nvidia-cuda-cupti-cu12-12.5.82\n",
            "  Attempting uninstall: nvidia-cublas-cu12\n",
            "    Found existing installation: nvidia-cublas-cu12 12.5.3.2\n",
            "    Uninstalling nvidia-cublas-cu12-12.5.3.2:\n",
            "      Successfully uninstalled nvidia-cublas-cu12-12.5.3.2\n",
            "  Attempting uninstall: nvidia-cusparse-cu12\n",
            "    Found existing installation: nvidia-cusparse-cu12 12.5.1.3\n",
            "    Uninstalling nvidia-cusparse-cu12-12.5.1.3:\n",
            "      Successfully uninstalled nvidia-cusparse-cu12-12.5.1.3\n",
            "  Attempting uninstall: nvidia-cudnn-cu12\n",
            "    Found existing installation: nvidia-cudnn-cu12 9.3.0.75\n",
            "    Uninstalling nvidia-cudnn-cu12-9.3.0.75:\n",
            "      Successfully uninstalled nvidia-cudnn-cu12-9.3.0.75\n",
            "  Attempting uninstall: nvidia-cusolver-cu12\n",
            "    Found existing installation: nvidia-cusolver-cu12 11.6.3.83\n",
            "    Uninstalling nvidia-cusolver-cu12-11.6.3.83:\n",
            "      Successfully uninstalled nvidia-cusolver-cu12-11.6.3.83\n",
            "Successfully installed nvidia-cublas-cu12-12.4.5.8 nvidia-cuda-cupti-cu12-12.4.127 nvidia-cuda-nvrtc-cu12-12.4.127 nvidia-cuda-runtime-cu12-12.4.127 nvidia-cudnn-cu12-9.1.0.70 nvidia-cufft-cu12-11.2.1.3 nvidia-curand-cu12-10.3.5.147 nvidia-cusolver-cu12-11.6.1.9 nvidia-cusparse-cu12-12.3.1.170 nvidia-nvjitlink-cu12-12.4.127 ultralytics-8.3.166 ultralytics-thop-2.0.14\n"
          ]
        }
      ]
    },
    {
      "cell_type": "markdown",
      "source": [
        "#Task *1* : Detection Summary Engine"
      ],
      "metadata": {
        "id": "Qc9aoAR8p8Fk"
      }
    },
    {
      "cell_type": "code",
      "source": [
        "# this will output 5 things\n",
        "#   1. task1_detection_results.json : it contains the object class , bounding box and confidence of every object in the frame (every 5th frame)\n",
        "#   2. task1_frame_summary.csv: it contains the frame index, total no. of objects and no. of unique objects in each frame.\n",
        "#   3. task1_annotated_frames: it contains the frames with bounding box and labels drawn over each frame.\n",
        "#   4. at the end of this section ,it prints the frame_index with maximum class diversity(maximum no. of unique classes) and no. of classes in it.\n",
        "#   5. at the end of this section ,there is a graph that shows the total frequency of classes in all the frames (every 5th frame in our case)."
      ],
      "metadata": {
        "id": "IrAAmG99p_ka"
      },
      "execution_count": 5,
      "outputs": []
    },
    {
      "cell_type": "code",
      "source": [
        "from ultralytics import YOLO\n",
        "import cv2\n",
        "import pandas as pd\n",
        "import matplotlib.pyplot as plt\n",
        "import os\n",
        "import json\n",
        "\n",
        "# Load model\n",
        "model = YOLO('yolo11m.pt')\n",
        "\n",
        "# Video setup\n",
        "video_path = 'task1_input_video.mp4'\n",
        "cap = cv2.VideoCapture(video_path)\n",
        "fps = cap.get(cv2.CAP_PROP_FPS)\n",
        "total_frames = int(cap.get(cv2.CAP_PROP_FRAME_COUNT))\n",
        "step = 5\n",
        "\n",
        "# Outputs\n",
        "results_json = [] # to store the result.json\n",
        "summary_rows = [] # for total no. of object and no. of unique objects in frame\n",
        "class_counter = {} # to keep the count of class they appeared in frames\n",
        "diversity_per_frame = {} # unique class in each frame\n",
        "\n",
        "# Annotated output directory\n",
        "os.makedirs('task1_annotated_frames', exist_ok=True)"
      ],
      "metadata": {
        "colab": {
          "base_uri": "https://localhost:8080/",
          "height": 0
        },
        "id": "IWg4YCSFSO-4",
        "outputId": "845e1e8f-8b08-45e2-aa83-6ba15292df44"
      },
      "execution_count": 6,
      "outputs": [
        {
          "output_type": "stream",
          "name": "stdout",
          "text": [
            "Creating new Ultralytics Settings v0.0.6 file ✅ \n",
            "View Ultralytics Settings with 'yolo settings' or at '/root/.config/Ultralytics/settings.json'\n",
            "Update Settings with 'yolo settings key=value', i.e. 'yolo settings runs_dir=path/to/dir'. For help see https://docs.ultralytics.com/quickstart/#ultralytics-settings.\n",
            "Downloading https://github.com/ultralytics/assets/releases/download/v8.3.0/yolo11m.pt to 'yolo11m.pt'...\n"
          ]
        },
        {
          "output_type": "stream",
          "name": "stderr",
          "text": [
            "100%|██████████| 38.8M/38.8M [00:00<00:00, 124MB/s]\n"
          ]
        }
      ]
    },
    {
      "cell_type": "code",
      "source": [
        "# Iterating over the video capturing annotation every 5th frame\n",
        "frame_idx = 0\n",
        "while cap.isOpened() :\n",
        "    ret, frame = cap.read()\n",
        "    if not ret:\n",
        "        break\n",
        "\n",
        "    if frame_idx % step == 0:\n",
        "        res = model(frame)[0] # run model over the frame and get results in res\n",
        "        detections = []\n",
        "        class_set = set()\n",
        "\n",
        "        for box in res.boxes:\n",
        "            cls_id = int(box.cls.cpu().numpy()[0]) # gets class id in numeric\n",
        "            cls_name = model.names[cls_id] # gets class name from class id\n",
        "            x1, y1, x2, y2 = box.xyxy.cpu().numpy().tolist()[0] # gets coordinates of bounding box\n",
        "            conf = float(box.conf.cpu().numpy()[0]) # confidence of model on each object to which class it predicted\n",
        "\n",
        "            detections.append({\n",
        "                'class': cls_name,\n",
        "                'bbox': [x1, y1, x2, y2],\n",
        "                'confidence': conf\n",
        "            })\n",
        "            class_counter[cls_name] = class_counter.get(cls_name, 0) + 1\n",
        "\n",
        "            class_set.add(cls_name)\n",
        "\n",
        "        # Frame-level summary row\n",
        "        summary_rows.append({\n",
        "            'frame': frame_idx,\n",
        "            'total_objects': len(detections),\n",
        "            'unique_classes_count': len(class_set)\n",
        "        })\n",
        "\n",
        "        diversity_per_frame[frame_idx] = len(class_set)\n",
        "\n",
        "        # Store full detection for this frame\n",
        "        results_json.append({\n",
        "            'frame': frame_idx,\n",
        "            'detections': detections\n",
        "        })\n",
        "\n",
        "        # Save annotated frame\n",
        "        annotated = res.plot()\n",
        "        cv2.imwrite(f'task1_annotated_frames/frame_{frame_idx:04d}.jpg', annotated)\n",
        "\n",
        "    frame_idx += 1\n",
        "\n",
        "cap.release()\n",
        "\n",
        "# Save full detection result JSON\n",
        "with open('task1_detection_results.json', 'w') as f:\n",
        "    json.dump(results_json, f, indent=2)"
      ],
      "metadata": {
        "id": "7AL9PdKMDY-E",
        "collapsed": true
      },
      "execution_count": 14,
      "outputs": []
    },
    {
      "cell_type": "code",
      "source": [
        "# Save frame summary CSV\n",
        "summary_df = pd.DataFrame(summary_rows)\n",
        "summary_df.to_csv('task1_frame_summary.csv', index=False)\n",
        "print(\"frame summary\")\n",
        "print(summary_df.head())"
      ],
      "metadata": {
        "id": "FYJxnlVzFs1W",
        "colab": {
          "base_uri": "https://localhost:8080/",
          "height": 0
        },
        "outputId": "997eadb9-282e-4397-85b9-f1ac391a6f4e"
      },
      "execution_count": 8,
      "outputs": [
        {
          "output_type": "stream",
          "name": "stdout",
          "text": [
            "frame summary\n",
            "   frame  total_objects  unique_classes_count\n",
            "0      0             11                     2\n",
            "1      5             11                     3\n",
            "2     10             12                     3\n",
            "3     15             12                     3\n",
            "4     20             10                     2\n"
          ]
        }
      ]
    },
    {
      "cell_type": "code",
      "source": [
        "# plot total object frequencies over all frames annotated\n",
        "plt.figure()\n",
        "plt.bar(class_counter.keys(), class_counter.values())\n",
        "plt.title('Object Frequency')\n",
        "plt.ylabel('Count')\n",
        "plt.xticks(rotation=45, ha='right')\n",
        "plt.tight_layout()\n",
        "plt.show()\n",
        "\n",
        "# Frame with max diversity\n",
        "max_div_frame = max(diversity_per_frame, key=diversity_per_frame.get)\n",
        "print(f\"Frame index with max class diversity: {max_div_frame} ({diversity_per_frame[max_div_frame]} classes)\")"
      ],
      "metadata": {
        "colab": {
          "base_uri": "https://localhost:8080/",
          "height": 505
        },
        "id": "DfFp-cFwTkj5",
        "outputId": "1e4db6f5-fc13-494a-c7d9-366dfd1616d8"
      },
      "execution_count": 9,
      "outputs": [
        {
          "output_type": "display_data",
          "data": {
            "text/plain": [
              "<Figure size 640x480 with 1 Axes>"
            ],
            "image/png": "[encoded data removed]"
          },
          "metadata": {}
        },
        {
          "output_type": "stream",
          "name": "stdout",
          "text": [
            "Frame index with max class diversity: 235 (5 classes)\n"
          ]
        }
      ]
    },
    {
      "cell_type": "markdown",
      "source": [
        "#Task 2 : Real-Time Stream Simulation & Event Trigger"
      ],
      "metadata": {
        "id": "toazCLJPtzzR"
      }
    },
    {
      "cell_type": "code",
      "source": [
        "# This will output 3 things\n",
        "#   1. task2_alert_log.txt : it contains the frame no. when the alert triggers also this is also printed in the terminal when it happens.\n",
        "#      (condition for alert: when processing every 3rd frame from the video stream we get 5 consecutive frames having people 3 or more in each)\n",
        "#   2. task2_annotated_frames_for_crowd: the annotated frames folder with bounding box and class label over each object in the frame\n",
        "#      and a text saying (crowd alert) if alert triggers over that frame.\n",
        "#   3. a graph in the end showing the alert triggers over the frame index."
      ],
      "metadata": {
        "id": "8ERzh3PTuWK6"
      },
      "execution_count": 10,
      "outputs": []
    },
    {
      "cell_type": "code",
      "source": [
        "video_path = 'task2_input_video.mp4'\n",
        "os.makedirs('task2_annotated_frames_for_crowd', exist_ok=True)\n",
        "\n",
        "\n",
        "# Alert variables\n",
        "crowd_alert_threshold = 3  # this variable is for no. of people greater than equal to to be considered crowd\n",
        "consecutive_frames_threshold = 5 # no. of conseccutive frames equal to or over which alert triggers\n",
        "alert_log = [] # to log the alert messages to be later written into disk\n",
        "consecutive_crowd_frames = 0 # keeps count of consecutive frames over which crowd is detected\n",
        "alert_active = False # turns true if alert triggers\n"
      ],
      "metadata": {
        "id": "zwRXmjwAuVIT"
      },
      "execution_count": 11,
      "outputs": []
    },
    {
      "cell_type": "code",
      "source": [
        "\n",
        "# Frame index restart\n",
        "frame_idx = 0\n",
        "cap = cv2.VideoCapture(video_path)\n",
        "\n",
        "while cap.isOpened():\n",
        "    ret, frame = cap.read()\n",
        "    if not ret:\n",
        "        break\n",
        "\n",
        "    # Simulate processing every 3rd frame\n",
        "    if frame_idx % 3 == 0:\n",
        "        results = model(frame)[0]\n",
        "\n",
        "        # Process detection results\n",
        "        people_count = 0\n",
        "        for r in results:\n",
        "            for c in r.boxes.cls:\n",
        "                if model.names[int(c)] == 'person':\n",
        "                    people_count += 1\n",
        "\n",
        "\n",
        "        # Check for crowd alert condition\n",
        "        current_frame_is_crowd = people_count >= crowd_alert_threshold\n",
        "\n",
        "        if current_frame_is_crowd:\n",
        "            consecutive_crowd_frames += 1\n",
        "        else:\n",
        "            consecutive_crowd_frames = 0 # Reset if the current frame doesn't meet the threshold\n",
        "\n",
        "        # Trigger alert based on consecutive frames\n",
        "        if consecutive_crowd_frames >= consecutive_frames_threshold :\n",
        "            alert_message = f\"Crowd Detected at frame {frame_idx}\"\n",
        "            print(alert_message)\n",
        "            alert_log.append({'frame': frame_idx, 'alert': alert_message})\n",
        "            alert_active = True # Set alert as active to prevent multiple logs for the same continuous event\n",
        "        elif consecutive_crowd_frames < consecutive_frames_threshold and alert_active:\n",
        "             # If a crowd alert was active and the consecutive count drops below the threshold\n",
        "             # it means the crowd event has ended. You can log an \"End of Crowd\" event here if needed.\n",
        "             # For this task, we only log the start of a crowd event.\n",
        "             alert_active = False\n",
        "\n",
        "        annotated = results.plot()\n",
        "        # Overlay alert text on the frame\n",
        "        if alert_active:\n",
        "             cv2.putText(annotated, \"Crowd Alert!\", (20, 40), cv2.FONT_HERSHEY_SIMPLEX, 1.0, (0, 0, 255), 2)\n",
        "             cv2.imwrite(f'task2_annotated_frames_for_crowd/frame_{frame_idx:04d}_alert.jpg', annotated) # save frame with alert message\n",
        "        elif frame_idx % step != 0: # Save frame without alert message\n",
        "             cv2.imwrite(f'task2_annotated_frames_for_crowd/frame_{frame_idx:04d}.jpg', annotated)\n",
        "\n",
        "\n",
        "    frame_idx += 1\n",
        "\n",
        "cap.release()\n",
        "\n",
        "# Log alerts to a text file\n",
        "with open('task2_alert_log.txt', 'w') as f:\n",
        "    for entry in alert_log:\n",
        "        f.write(f\"Frame {entry['frame']}: {entry['alert']}\\n\")\n",
        "\n",
        "# Plot timeline of alert occurrences\n",
        "if alert_log:\n",
        "    alert_frames = [entry['frame'] for entry in alert_log]\n",
        "    plt.figure(figsize=(12, 4))\n",
        "    plt.eventplot(alert_frames, orientation='horizontal', colors='r')\n",
        "    plt.title('Timeline of Crowd Alert Occurrences')\n",
        "    plt.xlabel('Frame Number')\n",
        "    plt.yticks([]) # Hide y-axis ticks\n",
        "    plt.grid(axis='x')\n",
        "    plt.show()\n",
        "else:\n",
        "    print(\"No alerts were triggered.\")"
      ],
      "metadata": {
        "colab": {
          "base_uri": "https://localhost:8080/",
          "height": 1724
        },
        "id": "Z48w20xqTvhs",
        "outputId": "dc737679-8368-4757-8e5a-872ec5c7731d"
      },
      "execution_count": 15,
      "outputs": [
        {
          "output_type": "stream",
          "name": "stdout",
          "text": [
            "Crowd Detected at frame 117\n",
            "Crowd Detected at frame 120\n",
            "Crowd Detected at frame 123\n",
            "Crowd Detected at frame 144\n",
            "Crowd Detected at frame 147\n",
            "Crowd Detected at frame 150\n",
            "Crowd Detected at frame 153\n",
            "Crowd Detected at frame 156\n",
            "Crowd Detected at frame 159\n",
            "Crowd Detected at frame 162\n",
            "Crowd Detected at frame 165\n",
            "Crowd Detected at frame 168\n",
            "Crowd Detected at frame 171\n",
            "Crowd Detected at frame 174\n",
            "Crowd Detected at frame 177\n",
            "Crowd Detected at frame 180\n",
            "Crowd Detected at frame 183\n",
            "Crowd Detected at frame 186\n",
            "Crowd Detected at frame 189\n",
            "Crowd Detected at frame 192\n",
            "Crowd Detected at frame 195\n",
            "Crowd Detected at frame 198\n",
            "Crowd Detected at frame 201\n",
            "Crowd Detected at frame 204\n",
            "Crowd Detected at frame 207\n",
            "Crowd Detected at frame 210\n",
            "Crowd Detected at frame 213\n",
            "Crowd Detected at frame 216\n",
            "Crowd Detected at frame 219\n",
            "Crowd Detected at frame 222\n",
            "Crowd Detected at frame 225\n",
            "Crowd Detected at frame 228\n",
            "Crowd Detected at frame 231\n",
            "Crowd Detected at frame 234\n",
            "Crowd Detected at frame 237\n",
            "Crowd Detected at frame 240\n",
            "Crowd Detected at frame 243\n",
            "Crowd Detected at frame 246\n",
            "Crowd Detected at frame 249\n",
            "Crowd Detected at frame 252\n",
            "Crowd Detected at frame 255\n",
            "Crowd Detected at frame 258\n",
            "Crowd Detected at frame 261\n",
            "Crowd Detected at frame 264\n",
            "Crowd Detected at frame 423\n",
            "Crowd Detected at frame 426\n",
            "Crowd Detected at frame 429\n",
            "Crowd Detected at frame 432\n",
            "Crowd Detected at frame 525\n",
            "Crowd Detected at frame 528\n",
            "Crowd Detected at frame 531\n",
            "Crowd Detected at frame 534\n",
            "Crowd Detected at frame 537\n",
            "Crowd Detected at frame 540\n",
            "Crowd Detected at frame 597\n",
            "Crowd Detected at frame 600\n",
            "Crowd Detected at frame 603\n",
            "Crowd Detected at frame 606\n",
            "Crowd Detected at frame 609\n",
            "Crowd Detected at frame 612\n",
            "Crowd Detected at frame 615\n",
            "Crowd Detected at frame 618\n",
            "Crowd Detected at frame 621\n",
            "Crowd Detected at frame 624\n",
            "Crowd Detected at frame 627\n",
            "Crowd Detected at frame 630\n",
            "Crowd Detected at frame 633\n",
            "Crowd Detected at frame 636\n",
            "Crowd Detected at frame 639\n",
            "Crowd Detected at frame 642\n",
            "Crowd Detected at frame 645\n",
            "Crowd Detected at frame 648\n",
            "Crowd Detected at frame 651\n",
            "Crowd Detected at frame 654\n",
            "Crowd Detected at frame 657\n",
            "Crowd Detected at frame 660\n"
          ]
        },
        {
          "output_type": "display_data",
          "data": {
            "text/plain": [
              "<Figure size 1200x400 with 1 Axes>"
            ],
            "image/png": "[encoded data removed]"
          },
          "metadata": {}
        }
      ]
    },
    {
      "cell_type": "code",
      "source": [],
      "metadata": {
        "id": "3-lqw7ZhVRU_"
      },
      "execution_count": 12,
      "outputs": []
    }
  ]
}